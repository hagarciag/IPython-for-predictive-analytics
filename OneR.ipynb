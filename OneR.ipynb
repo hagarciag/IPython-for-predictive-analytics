{
 "cells": [
  {
   "cell_type": "code",
   "execution_count": 237,
   "metadata": {},
   "outputs": [],
   "source": [
    "X = [[\"a\", \"1\"],\n",
    "     [\"a\", \"2\"],\n",
    "     [\"a\", \"3\"],\n",
    "     [\"b\", \"1\"],\n",
    "     [\"b\", \"2\"],\n",
    "     [\"b\", \"3\"],\n",
    "     [\"c\", \"1\"],\n",
    "     [\"c\", \"1\"]]\n",
    "\n",
    "y = [\"p\", \"p\", \"e\", \n",
    "     \"p\", \"e\", \"e\",\n",
    "     \"p\", \"p\"]"
   ]
  },
  {
   "cell_type": "code",
   "execution_count": 238,
   "metadata": {},
   "outputs": [],
   "source": [
    "class OneR():\n",
    "    def __init__(self):\n",
    "        self.clf = None\n",
    " \n",
    "    def fit(self, X, y):\n",
    "        \n",
    "        def X2dict(X):\n",
    "            ## crea el diccionario vacio\n",
    "            X_as_dict = {}\n",
    "            \n",
    "            ## calcula la cantidad de columnas\n",
    "            ncols = len(X[0])\n",
    "            \n",
    "            ## inicializa el diccionario\n",
    "            for col in range(ncols):\n",
    "                X_as_dict[col] = []\n",
    "                \n",
    "            ## llena el diccionario con los elementos\n",
    "            for row in X:\n",
    "                for pos, elem in enumerate(row):\n",
    "                    X_as_dict[pos] += [elem]\n",
    "            \n",
    "            return(X_as_dict)\n",
    "        \n",
    "        \n",
    "        ## construye un clasificador para la \n",
    "        ## columna x\n",
    "        def get_clf(x, y):\n",
    "            \n",
    "            \n",
    "            ## se obtiene un set con los valores unicos de la columna\n",
    "            xkeys = set(x)\n",
    "            ykeys = set(y)\n",
    "            \n",
    "            xkeys_pos = {xkey: [enum for enum, val in enumerate(x) if val == xkey]  \n",
    "                         for xkey in xkeys}\n",
    "            \n",
    "            xkeys_yvals = {xkey: [y[pos] for pos in xkeys_pos[xkey]]  \n",
    "                           for xkey in xkeys}\n",
    "                        \n",
    "            xkeys_counts = {xkey: {ykey: xkeys_yvals[xkey].count(ykey) for ykey in ykeys}  \n",
    "                           for xkey in xkeys}\n",
    "            \n",
    "            clf = {xkey: [key for key in xkeys_counts[xkey] \n",
    "                          if xkeys_counts[xkey][key] == max(xkeys_counts[xkey].values())]\n",
    "                   for xkey in xkeys}\n",
    "            \n",
    "            clf = {key: clf[key][0] for key in clf.keys()}\n",
    "                        \n",
    "            return (clf)\n",
    "        \n",
    "        ##\n",
    "        ## esta es la parte principal de la función\n",
    "        ## se crea un diccionario vacio\n",
    "        ##\n",
    "        X_as_dict = X2dict(X)\n",
    "    \n",
    "        max_col = 0\n",
    "        max_value = 0\n",
    "        max_clf = None\n",
    "        for col in X_as_dict.keys():\n",
    "            \n",
    "            self.clf =[col, get_clf(X_as_dict[col], y)]\n",
    "            y_pred = self.predict(X)\n",
    "            \n",
    "            suma = sum([1  for y_pred_elem, y_true_elem in zip(y_pred, y) \n",
    "                       if y_pred_elem == y_true_elem ])\n",
    "            \n",
    "            if max_value < suma:\n",
    "                max_value = suma\n",
    "                max_col = col\n",
    "                max_clf = self.clf\n",
    "\n",
    "        self.clf = max_clf\n",
    "        \n",
    "        return(self.clf)\n",
    "        \n",
    "    \n",
    "    def predict(self, X):        \n",
    "        ## se obtiene la columna de los datos\n",
    "        x = [row[self.clf[0]] for row in X]\n",
    "        y = [self.clf[1][elem] for elem in x]\n",
    "        return(y)\n",
    "    \n",
    "    def __repr__(self):\n",
    "        return self.clf.__repr__()"
   ]
  },
  {
   "cell_type": "code",
   "execution_count": 240,
   "metadata": {},
   "outputs": [
    {
     "data": {
      "text/plain": [
       "[1, {'1': 'p', '2': 'e', '3': 'e'}]"
      ]
     },
     "execution_count": 240,
     "metadata": {},
     "output_type": "execute_result"
    }
   ],
   "source": [
    "\n",
    "clf = OneR()\n",
    "clf.fit(X, y)"
   ]
  },
  {
   "cell_type": "code",
   "execution_count": 241,
   "metadata": {},
   "outputs": [
    {
     "data": {
      "text/plain": [
       "['p', 'e', 'e', 'p', 'e', 'e', 'p', 'p']"
      ]
     },
     "execution_count": 241,
     "metadata": {},
     "output_type": "execute_result"
    }
   ],
   "source": [
    "clf.predict(X)"
   ]
  },
  {
   "cell_type": "code",
   "execution_count": null,
   "metadata": {},
   "outputs": [],
   "source": []
  }
 ],
 "metadata": {
  "kernelspec": {
   "display_name": "Python 3",
   "language": "python",
   "name": "python3"
  },
  "language_info": {
   "codemirror_mode": {
    "name": "ipython",
    "version": 3
   },
   "file_extension": ".py",
   "mimetype": "text/x-python",
   "name": "python",
   "nbconvert_exporter": "python",
   "pygments_lexer": "ipython3",
   "version": "3.6.3"
  }
 },
 "nbformat": 4,
 "nbformat_minor": 2
}
